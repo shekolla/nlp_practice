{
 "cells": [
  {
   "cell_type": "code",
   "execution_count": 2,
   "id": "e1977c2b",
   "metadata": {},
   "outputs": [],
   "source": [
    "import spacy"
   ]
  },
  {
   "cell_type": "code",
   "execution_count": 3,
   "id": "08facdb2",
   "metadata": {},
   "outputs": [],
   "source": [
    "nlp = spacy.load('en_core_web_sm')"
   ]
  },
  {
   "cell_type": "code",
   "execution_count": 4,
   "id": "6b271b51",
   "metadata": {},
   "outputs": [],
   "source": [
    "doc = nlp(u'I will google about facebook')"
   ]
  },
  {
   "cell_type": "code",
   "execution_count": 11,
   "id": "3a9e72ab",
   "metadata": {},
   "outputs": [
    {
     "data": {
      "text/plain": [
       "'pronoun, personal'"
      ]
     },
     "execution_count": 11,
     "metadata": {},
     "output_type": "execute_result"
    }
   ],
   "source": [
    "spacy.explain(doc[0].tag_)"
   ]
  },
  {
   "cell_type": "code",
   "execution_count": 13,
   "id": "b1d48a0f",
   "metadata": {},
   "outputs": [
    {
     "data": {
      "text/plain": [
       "'PRP'"
      ]
     },
     "execution_count": 13,
     "metadata": {},
     "output_type": "execute_result"
    }
   ],
   "source": [
    "doc[0].tag_ # fine grain POS"
   ]
  },
  {
   "cell_type": "code",
   "execution_count": 14,
   "id": "f870616d",
   "metadata": {},
   "outputs": [
    {
     "name": "stdout",
     "output_type": "stream",
     "text": [
      "I -------> PRP PRON pronoun, personal\n",
      "will -------> MD AUX verb, modal auxiliary\n",
      "google -------> VB VERB verb, base form\n",
      "about -------> IN ADP conjunction, subordinating or preposition\n",
      "facebook -------> NN NOUN noun, singular or mass\n"
     ]
    }
   ],
   "source": [
    "for word in doc:\n",
    "    print(word.text, '------->', word.tag_, word.pos_, spacy.explain(word.tag_))"
   ]
  },
  {
   "cell_type": "code",
   "execution_count": null,
   "id": "9162b8e3",
   "metadata": {},
   "outputs": [],
   "source": []
  }
 ],
 "metadata": {
  "kernelspec": {
   "display_name": "Python 3 (ipykernel)",
   "language": "python",
   "name": "python3"
  },
  "language_info": {
   "codemirror_mode": {
    "name": "ipython",
    "version": 3
   },
   "file_extension": ".py",
   "mimetype": "text/x-python",
   "name": "python",
   "nbconvert_exporter": "python",
   "pygments_lexer": "ipython3",
   "version": "3.11.7"
  }
 },
 "nbformat": 4,
 "nbformat_minor": 5
}
