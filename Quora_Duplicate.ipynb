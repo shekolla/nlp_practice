{
 "cells": [
  {
   "cell_type": "code",
   "execution_count": 1,
   "id": "20d23bf3",
   "metadata": {},
   "outputs": [],
   "source": [
    "import opendatasets as od"
   ]
  },
  {
   "cell_type": "code",
   "execution_count": 2,
   "id": "25e8b089",
   "metadata": {},
   "outputs": [
    {
     "name": "stdout",
     "output_type": "stream",
     "text": [
      "Skipping, found downloaded files in \"./quora-question-pairs\" (use force=True to force download)\n"
     ]
    }
   ],
   "source": [
    "od.download('https://www.kaggle.com/c/quora-question-pairs/data')"
   ]
  },
  {
   "cell_type": "code",
   "execution_count": 3,
   "id": "0ed55aff",
   "metadata": {},
   "outputs": [
    {
     "name": "stdout",
     "output_type": "stream",
     "text": [
      "sample_submission.csv.zip test.csv.zip              train.csv.zip\r\n",
      "test.csv                  train.csv\r\n"
     ]
    }
   ],
   "source": [
    "!ls quora-question-pairs/"
   ]
  },
  {
   "cell_type": "code",
   "execution_count": 37,
   "id": "c1d98ae5",
   "metadata": {},
   "outputs": [],
   "source": [
    "import pandas as pd\n",
    "import numpy as np\n",
    "import string"
   ]
  },
  {
   "cell_type": "code",
   "execution_count": 5,
   "id": "b5305d51",
   "metadata": {},
   "outputs": [],
   "source": [
    "df = pd.read_csv('quora-question-pairs/train.csv', index_col='id')"
   ]
  },
  {
   "cell_type": "code",
   "execution_count": 6,
   "id": "7e165a63",
   "metadata": {},
   "outputs": [
    {
     "data": {
      "text/html": [
       "<div>\n",
       "<style scoped>\n",
       "    .dataframe tbody tr th:only-of-type {\n",
       "        vertical-align: middle;\n",
       "    }\n",
       "\n",
       "    .dataframe tbody tr th {\n",
       "        vertical-align: top;\n",
       "    }\n",
       "\n",
       "    .dataframe thead th {\n",
       "        text-align: right;\n",
       "    }\n",
       "</style>\n",
       "<table border=\"1\" class=\"dataframe\">\n",
       "  <thead>\n",
       "    <tr style=\"text-align: right;\">\n",
       "      <th></th>\n",
       "      <th>qid1</th>\n",
       "      <th>qid2</th>\n",
       "      <th>question1</th>\n",
       "      <th>question2</th>\n",
       "      <th>is_duplicate</th>\n",
       "    </tr>\n",
       "    <tr>\n",
       "      <th>id</th>\n",
       "      <th></th>\n",
       "      <th></th>\n",
       "      <th></th>\n",
       "      <th></th>\n",
       "      <th></th>\n",
       "    </tr>\n",
       "  </thead>\n",
       "  <tbody>\n",
       "    <tr>\n",
       "      <th>247673</th>\n",
       "      <td>52268</td>\n",
       "      <td>360948</td>\n",
       "      <td>How do you ask someone if they are as serious ...</td>\n",
       "      <td>What did mean when someone says \"there are two...</td>\n",
       "      <td>0</td>\n",
       "    </tr>\n",
       "    <tr>\n",
       "      <th>38734</th>\n",
       "      <td>9739</td>\n",
       "      <td>57817</td>\n",
       "      <td>How do I get rid of scalp acne?</td>\n",
       "      <td>What are the best ways to get rid of acne?</td>\n",
       "      <td>1</td>\n",
       "    </tr>\n",
       "    <tr>\n",
       "      <th>403209</th>\n",
       "      <td>19158</td>\n",
       "      <td>213440</td>\n",
       "      <td>How do a calico cat and a tortoiseshell cat di...</td>\n",
       "      <td>What are the difference between tortoiseshell ...</td>\n",
       "      <td>1</td>\n",
       "    </tr>\n",
       "    <tr>\n",
       "      <th>128977</th>\n",
       "      <td>207299</td>\n",
       "      <td>207300</td>\n",
       "      <td>Which is the best Area to open cafe in Jaipur?</td>\n",
       "      <td>Which is the best place (cafés, restaurants) t...</td>\n",
       "      <td>0</td>\n",
       "    </tr>\n",
       "    <tr>\n",
       "      <th>295376</th>\n",
       "      <td>52298</td>\n",
       "      <td>6100</td>\n",
       "      <td>How can I earn money part time online?</td>\n",
       "      <td>What is the easiest way to earn money from onl...</td>\n",
       "      <td>1</td>\n",
       "    </tr>\n",
       "    <tr>\n",
       "      <th>189370</th>\n",
       "      <td>288104</td>\n",
       "      <td>288105</td>\n",
       "      <td>What is the difference between TTA(JE) and JTO...</td>\n",
       "      <td>Is BSNL JE (or TTA) a good job for a fresher? ...</td>\n",
       "      <td>0</td>\n",
       "    </tr>\n",
       "    <tr>\n",
       "      <th>397535</th>\n",
       "      <td>530661</td>\n",
       "      <td>71659</td>\n",
       "      <td>Will Mark Zuckerberg run for political office?</td>\n",
       "      <td>Will Mark Zuckerberg run for president — in 20...</td>\n",
       "      <td>0</td>\n",
       "    </tr>\n",
       "    <tr>\n",
       "      <th>139874</th>\n",
       "      <td>222385</td>\n",
       "      <td>222386</td>\n",
       "      <td>If dinosaurs were reptiles, then how come bird...</td>\n",
       "      <td>Were dinosaurs endothermic like their closest ...</td>\n",
       "      <td>0</td>\n",
       "    </tr>\n",
       "    <tr>\n",
       "      <th>206937</th>\n",
       "      <td>310492</td>\n",
       "      <td>310493</td>\n",
       "      <td>What are the best &amp; innovative strategies, ide...</td>\n",
       "      <td>What are some tips for starting a retail chain...</td>\n",
       "      <td>1</td>\n",
       "    </tr>\n",
       "    <tr>\n",
       "      <th>2350</th>\n",
       "      <td>4673</td>\n",
       "      <td>4674</td>\n",
       "      <td>I found these needle cases with Arabic on them...</td>\n",
       "      <td>I'm a translator and want to partner up with p...</td>\n",
       "      <td>0</td>\n",
       "    </tr>\n",
       "  </tbody>\n",
       "</table>\n",
       "</div>"
      ],
      "text/plain": [
       "          qid1    qid2                                          question1  \\\n",
       "id                                                                          \n",
       "247673   52268  360948  How do you ask someone if they are as serious ...   \n",
       "38734     9739   57817                    How do I get rid of scalp acne?   \n",
       "403209   19158  213440  How do a calico cat and a tortoiseshell cat di...   \n",
       "128977  207299  207300     Which is the best Area to open cafe in Jaipur?   \n",
       "295376   52298    6100             How can I earn money part time online?   \n",
       "189370  288104  288105  What is the difference between TTA(JE) and JTO...   \n",
       "397535  530661   71659     Will Mark Zuckerberg run for political office?   \n",
       "139874  222385  222386  If dinosaurs were reptiles, then how come bird...   \n",
       "206937  310492  310493  What are the best & innovative strategies, ide...   \n",
       "2350      4673    4674  I found these needle cases with Arabic on them...   \n",
       "\n",
       "                                                question2  is_duplicate  \n",
       "id                                                                       \n",
       "247673  What did mean when someone says \"there are two...             0  \n",
       "38734          What are the best ways to get rid of acne?             1  \n",
       "403209  What are the difference between tortoiseshell ...             1  \n",
       "128977  Which is the best place (cafés, restaurants) t...             0  \n",
       "295376  What is the easiest way to earn money from onl...             1  \n",
       "189370  Is BSNL JE (or TTA) a good job for a fresher? ...             0  \n",
       "397535  Will Mark Zuckerberg run for president — in 20...             0  \n",
       "139874  Were dinosaurs endothermic like their closest ...             0  \n",
       "206937  What are some tips for starting a retail chain...             1  \n",
       "2350    I'm a translator and want to partner up with p...             0  "
      ]
     },
     "execution_count": 6,
     "metadata": {},
     "output_type": "execute_result"
    }
   ],
   "source": [
    "df.sample(10)\n"
   ]
  },
  {
   "cell_type": "code",
   "execution_count": 7,
   "id": "622dbebc",
   "metadata": {},
   "outputs": [
    {
     "name": "stdout",
     "output_type": "stream",
     "text": [
      "<class 'pandas.core.frame.DataFrame'>\n",
      "Int64Index: 404290 entries, 0 to 404289\n",
      "Data columns (total 5 columns):\n",
      " #   Column        Non-Null Count   Dtype \n",
      "---  ------        --------------   ----- \n",
      " 0   qid1          404290 non-null  int64 \n",
      " 1   qid2          404290 non-null  int64 \n",
      " 2   question1     404289 non-null  object\n",
      " 3   question2     404288 non-null  object\n",
      " 4   is_duplicate  404290 non-null  int64 \n",
      "dtypes: int64(3), object(2)\n",
      "memory usage: 18.5+ MB\n"
     ]
    }
   ],
   "source": [
    "df.info()"
   ]
  },
  {
   "cell_type": "code",
   "execution_count": 47,
   "id": "9a316ffc",
   "metadata": {},
   "outputs": [],
   "source": [
    "from sklearn.feature_extraction.text import CountVectorizer\n",
    "from sklearn.feature_extraction.text import TfidfVectorizer\n",
    "from nltk.corpus import stopwords"
   ]
  },
  {
   "cell_type": "code",
   "execution_count": 63,
   "id": "d616ccf3",
   "metadata": {},
   "outputs": [],
   "source": [
    "stop_words = set(stopwords.words('english'))\n",
    "def remove_stopwords_puncs(str_):\n",
    "    str_ = str_.translate(str.maketrans('', '', string.punctuation)).split()\n",
    "    return ' '.join([word for word in str_ if word not in stop_words])\n",
    "\n",
    "def apply_preprocessing(str_):\n",
    "    # lower\n",
    "    str_ = str(str_).lower()\n",
    "    # stopwords\n",
    "    return remove_stopwords_puncs(str_)\n"
   ]
  },
  {
   "cell_type": "code",
   "execution_count": 64,
   "id": "19d4bec1",
   "metadata": {},
   "outputs": [],
   "source": [
    "# initially use CountVector\n",
    "cv = CountVectorizer(max_features=3000)\n",
    "tf_idf = TfidfVectorizer(max_features=3000)\n",
    "def return_tf_vector(df1):\n",
    "    combined_li = list(df1['question1'].apply(apply_preprocessing)) + list(df1['question2'].apply(apply_preprocessing))\n",
    "    cv_ = cv.fit_transform(combined_li).toarray()\n",
    "    print(cv_.shape)\n",
    "    cv_ = np.vsplit(cv_, 2)\n",
    "    return cv_\n",
    "    \n",
    "def return_tf_idf(df1):\n",
    "    combined_li = list(df1['question1'].apply(apply_preprocessing)) + list(df1['question2'].apply(apply_preprocessing))\n",
    "    tf_idf_ = tf_idf.fit_transform(combined_li).toarray()\n",
    "    print(tf_idf_.shape)\n",
    "    return np.vsplit(tf_idf_, 2)"
   ]
  },
  {
   "cell_type": "code",
   "execution_count": 113,
   "id": "2b4d8873",
   "metadata": {},
   "outputs": [
    {
     "name": "stdout",
     "output_type": "stream",
     "text": [
      "(40000, 5)\n",
      "(80000, 3000)\n",
      "(80000, 3000)\n"
     ]
    }
   ],
   "source": [
    "samp = df.sample(40000)\n",
    "print(samp.shape)\n",
    "tf = return_tf_vector(samp)\n",
    "tf_idf = return_tf_vector(samp)"
   ]
  },
  {
   "cell_type": "code",
   "execution_count": 114,
   "id": "b6e5c9bf",
   "metadata": {},
   "outputs": [],
   "source": [
    "# we will be getting pair of q1 (sample_size, 3000) & q2 (sample_size, 3000) join them on column size\n",
    "df_tf = pd.DataFrame(np.hstack(tf))\n",
    "df_tf_idf = pd.DataFrame(np.hstack(tf_idf))"
   ]
  },
  {
   "cell_type": "code",
   "execution_count": 115,
   "id": "0fb7ae0a",
   "metadata": {},
   "outputs": [],
   "source": [
    "y = samp.iloc[:, -1]"
   ]
  },
  {
   "cell_type": "code",
   "execution_count": 116,
   "id": "56ffe659",
   "metadata": {},
   "outputs": [
    {
     "data": {
      "text/plain": [
       "((40000,), (40000, 6000), (40000, 6000))"
      ]
     },
     "execution_count": 116,
     "metadata": {},
     "output_type": "execute_result"
    }
   ],
   "source": [
    "y.shape, df_tf.shape, df_tf_idf.shape"
   ]
  },
  {
   "cell_type": "code",
   "execution_count": 117,
   "id": "2b857f6f",
   "metadata": {},
   "outputs": [],
   "source": [
    "from sklearn.model_selection import train_test_split"
   ]
  },
  {
   "cell_type": "code",
   "execution_count": 118,
   "id": "dd2d1434",
   "metadata": {},
   "outputs": [],
   "source": [
    "X_train_tf, X_test_tf, y_train_tf, y_test_tf = train_test_split(df_tf, y)\n",
    "X_train_idf, X_test_idf, y_train_idf, y_test_idf = train_test_split(df_tf_idf, y)"
   ]
  },
  {
   "cell_type": "code",
   "execution_count": 119,
   "id": "208ab4d0",
   "metadata": {},
   "outputs": [],
   "source": [
    "from sklearn.naive_bayes import MultinomialNB"
   ]
  },
  {
   "cell_type": "code",
   "execution_count": 120,
   "id": "84f00b90",
   "metadata": {},
   "outputs": [],
   "source": [
    "mnb = MultinomialNB()\n",
    "mnb_idf = MultinomialNB()"
   ]
  },
  {
   "cell_type": "code",
   "execution_count": 121,
   "id": "f6e16e35",
   "metadata": {},
   "outputs": [
    {
     "data": {
      "text/html": [
       "<style>#sk-container-id-8 {color: black;background-color: white;}#sk-container-id-8 pre{padding: 0;}#sk-container-id-8 div.sk-toggleable {background-color: white;}#sk-container-id-8 label.sk-toggleable__label {cursor: pointer;display: block;width: 100%;margin-bottom: 0;padding: 0.3em;box-sizing: border-box;text-align: center;}#sk-container-id-8 label.sk-toggleable__label-arrow:before {content: \"▸\";float: left;margin-right: 0.25em;color: #696969;}#sk-container-id-8 label.sk-toggleable__label-arrow:hover:before {color: black;}#sk-container-id-8 div.sk-estimator:hover label.sk-toggleable__label-arrow:before {color: black;}#sk-container-id-8 div.sk-toggleable__content {max-height: 0;max-width: 0;overflow: hidden;text-align: left;background-color: #f0f8ff;}#sk-container-id-8 div.sk-toggleable__content pre {margin: 0.2em;color: black;border-radius: 0.25em;background-color: #f0f8ff;}#sk-container-id-8 input.sk-toggleable__control:checked~div.sk-toggleable__content {max-height: 200px;max-width: 100%;overflow: auto;}#sk-container-id-8 input.sk-toggleable__control:checked~label.sk-toggleable__label-arrow:before {content: \"▾\";}#sk-container-id-8 div.sk-estimator input.sk-toggleable__control:checked~label.sk-toggleable__label {background-color: #d4ebff;}#sk-container-id-8 div.sk-label input.sk-toggleable__control:checked~label.sk-toggleable__label {background-color: #d4ebff;}#sk-container-id-8 input.sk-hidden--visually {border: 0;clip: rect(1px 1px 1px 1px);clip: rect(1px, 1px, 1px, 1px);height: 1px;margin: -1px;overflow: hidden;padding: 0;position: absolute;width: 1px;}#sk-container-id-8 div.sk-estimator {font-family: monospace;background-color: #f0f8ff;border: 1px dotted black;border-radius: 0.25em;box-sizing: border-box;margin-bottom: 0.5em;}#sk-container-id-8 div.sk-estimator:hover {background-color: #d4ebff;}#sk-container-id-8 div.sk-parallel-item::after {content: \"\";width: 100%;border-bottom: 1px solid gray;flex-grow: 1;}#sk-container-id-8 div.sk-label:hover label.sk-toggleable__label {background-color: #d4ebff;}#sk-container-id-8 div.sk-serial::before {content: \"\";position: absolute;border-left: 1px solid gray;box-sizing: border-box;top: 0;bottom: 0;left: 50%;z-index: 0;}#sk-container-id-8 div.sk-serial {display: flex;flex-direction: column;align-items: center;background-color: white;padding-right: 0.2em;padding-left: 0.2em;position: relative;}#sk-container-id-8 div.sk-item {position: relative;z-index: 1;}#sk-container-id-8 div.sk-parallel {display: flex;align-items: stretch;justify-content: center;background-color: white;position: relative;}#sk-container-id-8 div.sk-item::before, #sk-container-id-8 div.sk-parallel-item::before {content: \"\";position: absolute;border-left: 1px solid gray;box-sizing: border-box;top: 0;bottom: 0;left: 50%;z-index: -1;}#sk-container-id-8 div.sk-parallel-item {display: flex;flex-direction: column;z-index: 1;position: relative;background-color: white;}#sk-container-id-8 div.sk-parallel-item:first-child::after {align-self: flex-end;width: 50%;}#sk-container-id-8 div.sk-parallel-item:last-child::after {align-self: flex-start;width: 50%;}#sk-container-id-8 div.sk-parallel-item:only-child::after {width: 0;}#sk-container-id-8 div.sk-dashed-wrapped {border: 1px dashed gray;margin: 0 0.4em 0.5em 0.4em;box-sizing: border-box;padding-bottom: 0.4em;background-color: white;}#sk-container-id-8 div.sk-label label {font-family: monospace;font-weight: bold;display: inline-block;line-height: 1.2em;}#sk-container-id-8 div.sk-label-container {text-align: center;}#sk-container-id-8 div.sk-container {/* jupyter's `normalize.less` sets `[hidden] { display: none; }` but bootstrap.min.css set `[hidden] { display: none !important; }` so we also need the `!important` here to be able to override the default hidden behavior on the sphinx rendered scikit-learn.org. See: https://github.com/scikit-learn/scikit-learn/issues/21755 */display: inline-block !important;position: relative;}#sk-container-id-8 div.sk-text-repr-fallback {display: none;}</style><div id=\"sk-container-id-8\" class=\"sk-top-container\"><div class=\"sk-text-repr-fallback\"><pre>MultinomialNB()</pre><b>In a Jupyter environment, please rerun this cell to show the HTML representation or trust the notebook. <br />On GitHub, the HTML representation is unable to render, please try loading this page with nbviewer.org.</b></div><div class=\"sk-container\" hidden><div class=\"sk-item\"><div class=\"sk-estimator sk-toggleable\"><input class=\"sk-toggleable__control sk-hidden--visually\" id=\"sk-estimator-id-8\" type=\"checkbox\" checked><label for=\"sk-estimator-id-8\" class=\"sk-toggleable__label sk-toggleable__label-arrow\">MultinomialNB</label><div class=\"sk-toggleable__content\"><pre>MultinomialNB()</pre></div></div></div></div></div>"
      ],
      "text/plain": [
       "MultinomialNB()"
      ]
     },
     "execution_count": 121,
     "metadata": {},
     "output_type": "execute_result"
    }
   ],
   "source": [
    "mnb.fit(X_train_tf, y_train_tf)\n",
    "mnb_idf.fit(X_train_idf, y_train_idf)\n"
   ]
  },
  {
   "cell_type": "code",
   "execution_count": 122,
   "id": "6b6cbe6c",
   "metadata": {},
   "outputs": [],
   "source": [
    "y_pred = mnb.predict(X_test_tf)\n",
    "y_pred_idf = mnb_idf.predict(X_test_idf)"
   ]
  },
  {
   "cell_type": "code",
   "execution_count": 123,
   "id": "132740e0",
   "metadata": {},
   "outputs": [],
   "source": [
    "from sklearn.metrics import classification_report, accuracy_score"
   ]
  },
  {
   "cell_type": "code",
   "execution_count": 124,
   "id": "44c88688",
   "metadata": {},
   "outputs": [
    {
     "name": "stdout",
     "output_type": "stream",
     "text": [
      "              precision    recall  f1-score   support\n",
      "\n",
      "           0       0.80      0.75      0.77      6698\n",
      "           1       0.55      0.62      0.58      3302\n",
      "\n",
      "    accuracy                           0.71     10000\n",
      "   macro avg       0.67      0.68      0.68     10000\n",
      "weighted avg       0.72      0.71      0.71     10000\n",
      "\n",
      "0.7055\n",
      "              precision    recall  f1-score   support\n",
      "\n",
      "           0       0.80      0.74      0.77      6705\n",
      "           1       0.54      0.62      0.58      3295\n",
      "\n",
      "    accuracy                           0.70     10000\n",
      "   macro avg       0.67      0.68      0.68     10000\n",
      "weighted avg       0.72      0.70      0.71     10000\n",
      "\n",
      "0.7032\n"
     ]
    }
   ],
   "source": [
    "print(classification_report(y_pred, y_test_tf))\n",
    "print(accuracy_score(y_pred, y_test_tf))\n",
    "print(classification_report(y_pred_idf, y_test_idf))\n",
    "print(accuracy_score(y_pred_idf, y_test_idf))"
   ]
  },
  {
   "cell_type": "code",
   "execution_count": 125,
   "id": "d4291491",
   "metadata": {},
   "outputs": [],
   "source": [
    "from sklearn.ensemble import RandomForestClassifier"
   ]
  },
  {
   "cell_type": "code",
   "execution_count": 127,
   "id": "e6557f32",
   "metadata": {},
   "outputs": [],
   "source": [
    "rfc = RandomForestClassifier()\n",
    "rfc_idf = RandomForestClassifier()"
   ]
  },
  {
   "cell_type": "code",
   "execution_count": null,
   "id": "345c8a80",
   "metadata": {},
   "outputs": [],
   "source": [
    "rfc.fit(X_train_tf, y_train_tf)\n",
    "rfc_idf.fit(X_train_idf, y_train_idf)"
   ]
  },
  {
   "cell_type": "code",
   "execution_count": null,
   "id": "cf26cf56",
   "metadata": {},
   "outputs": [],
   "source": [
    "y_pred = rfc.predict(X_test_tf)"
   ]
  },
  {
   "cell_type": "code",
   "execution_count": 26,
   "id": "42410bd4",
   "metadata": {},
   "outputs": [
    {
     "name": "stdout",
     "output_type": "stream",
     "text": [
      "              precision    recall  f1-score   support\n",
      "\n",
      "           0       0.90      0.74      0.81      3874\n",
      "           1       0.45      0.73      0.56      1126\n",
      "\n",
      "    accuracy                           0.74      5000\n",
      "   macro avg       0.68      0.74      0.69      5000\n",
      "weighted avg       0.80      0.74      0.76      5000\n",
      "\n",
      "0.738\n"
     ]
    }
   ],
   "source": [
    "print(classification_report(y_pred, y_test))\n",
    "print(accuracy_score(y_pred, y_test))"
   ]
  },
  {
   "cell_type": "code",
   "execution_count": 27,
   "id": "404cc8e4",
   "metadata": {},
   "outputs": [],
   "source": [
    "from xgboost import XGBClassifier"
   ]
  },
  {
   "cell_type": "code",
   "execution_count": 28,
   "id": "2c11ce3b",
   "metadata": {},
   "outputs": [],
   "source": [
    "xgb_c = XGBClassifier()"
   ]
  },
  {
   "cell_type": "code",
   "execution_count": 29,
   "id": "58e3dae2",
   "metadata": {},
   "outputs": [
    {
     "data": {
      "text/html": [
       "<style>#sk-container-id-3 {color: black;background-color: white;}#sk-container-id-3 pre{padding: 0;}#sk-container-id-3 div.sk-toggleable {background-color: white;}#sk-container-id-3 label.sk-toggleable__label {cursor: pointer;display: block;width: 100%;margin-bottom: 0;padding: 0.3em;box-sizing: border-box;text-align: center;}#sk-container-id-3 label.sk-toggleable__label-arrow:before {content: \"▸\";float: left;margin-right: 0.25em;color: #696969;}#sk-container-id-3 label.sk-toggleable__label-arrow:hover:before {color: black;}#sk-container-id-3 div.sk-estimator:hover label.sk-toggleable__label-arrow:before {color: black;}#sk-container-id-3 div.sk-toggleable__content {max-height: 0;max-width: 0;overflow: hidden;text-align: left;background-color: #f0f8ff;}#sk-container-id-3 div.sk-toggleable__content pre {margin: 0.2em;color: black;border-radius: 0.25em;background-color: #f0f8ff;}#sk-container-id-3 input.sk-toggleable__control:checked~div.sk-toggleable__content {max-height: 200px;max-width: 100%;overflow: auto;}#sk-container-id-3 input.sk-toggleable__control:checked~label.sk-toggleable__label-arrow:before {content: \"▾\";}#sk-container-id-3 div.sk-estimator input.sk-toggleable__control:checked~label.sk-toggleable__label {background-color: #d4ebff;}#sk-container-id-3 div.sk-label input.sk-toggleable__control:checked~label.sk-toggleable__label {background-color: #d4ebff;}#sk-container-id-3 input.sk-hidden--visually {border: 0;clip: rect(1px 1px 1px 1px);clip: rect(1px, 1px, 1px, 1px);height: 1px;margin: -1px;overflow: hidden;padding: 0;position: absolute;width: 1px;}#sk-container-id-3 div.sk-estimator {font-family: monospace;background-color: #f0f8ff;border: 1px dotted black;border-radius: 0.25em;box-sizing: border-box;margin-bottom: 0.5em;}#sk-container-id-3 div.sk-estimator:hover {background-color: #d4ebff;}#sk-container-id-3 div.sk-parallel-item::after {content: \"\";width: 100%;border-bottom: 1px solid gray;flex-grow: 1;}#sk-container-id-3 div.sk-label:hover label.sk-toggleable__label {background-color: #d4ebff;}#sk-container-id-3 div.sk-serial::before {content: \"\";position: absolute;border-left: 1px solid gray;box-sizing: border-box;top: 0;bottom: 0;left: 50%;z-index: 0;}#sk-container-id-3 div.sk-serial {display: flex;flex-direction: column;align-items: center;background-color: white;padding-right: 0.2em;padding-left: 0.2em;position: relative;}#sk-container-id-3 div.sk-item {position: relative;z-index: 1;}#sk-container-id-3 div.sk-parallel {display: flex;align-items: stretch;justify-content: center;background-color: white;position: relative;}#sk-container-id-3 div.sk-item::before, #sk-container-id-3 div.sk-parallel-item::before {content: \"\";position: absolute;border-left: 1px solid gray;box-sizing: border-box;top: 0;bottom: 0;left: 50%;z-index: -1;}#sk-container-id-3 div.sk-parallel-item {display: flex;flex-direction: column;z-index: 1;position: relative;background-color: white;}#sk-container-id-3 div.sk-parallel-item:first-child::after {align-self: flex-end;width: 50%;}#sk-container-id-3 div.sk-parallel-item:last-child::after {align-self: flex-start;width: 50%;}#sk-container-id-3 div.sk-parallel-item:only-child::after {width: 0;}#sk-container-id-3 div.sk-dashed-wrapped {border: 1px dashed gray;margin: 0 0.4em 0.5em 0.4em;box-sizing: border-box;padding-bottom: 0.4em;background-color: white;}#sk-container-id-3 div.sk-label label {font-family: monospace;font-weight: bold;display: inline-block;line-height: 1.2em;}#sk-container-id-3 div.sk-label-container {text-align: center;}#sk-container-id-3 div.sk-container {/* jupyter's `normalize.less` sets `[hidden] { display: none; }` but bootstrap.min.css set `[hidden] { display: none !important; }` so we also need the `!important` here to be able to override the default hidden behavior on the sphinx rendered scikit-learn.org. See: https://github.com/scikit-learn/scikit-learn/issues/21755 */display: inline-block !important;position: relative;}#sk-container-id-3 div.sk-text-repr-fallback {display: none;}</style><div id=\"sk-container-id-3\" class=\"sk-top-container\"><div class=\"sk-text-repr-fallback\"><pre>XGBClassifier(base_score=None, booster=None, callbacks=None,\n",
       "              colsample_bylevel=None, colsample_bynode=None,\n",
       "              colsample_bytree=None, device=None, early_stopping_rounds=None,\n",
       "              enable_categorical=False, eval_metric=None, feature_types=None,\n",
       "              gamma=None, grow_policy=None, importance_type=None,\n",
       "              interaction_constraints=None, learning_rate=None, max_bin=None,\n",
       "              max_cat_threshold=None, max_cat_to_onehot=None,\n",
       "              max_delta_step=None, max_depth=None, max_leaves=None,\n",
       "              min_child_weight=None, missing=nan, monotone_constraints=None,\n",
       "              multi_strategy=None, n_estimators=None, n_jobs=None,\n",
       "              num_parallel_tree=None, random_state=None, ...)</pre><b>In a Jupyter environment, please rerun this cell to show the HTML representation or trust the notebook. <br />On GitHub, the HTML representation is unable to render, please try loading this page with nbviewer.org.</b></div><div class=\"sk-container\" hidden><div class=\"sk-item\"><div class=\"sk-estimator sk-toggleable\"><input class=\"sk-toggleable__control sk-hidden--visually\" id=\"sk-estimator-id-3\" type=\"checkbox\" checked><label for=\"sk-estimator-id-3\" class=\"sk-toggleable__label sk-toggleable__label-arrow\">XGBClassifier</label><div class=\"sk-toggleable__content\"><pre>XGBClassifier(base_score=None, booster=None, callbacks=None,\n",
       "              colsample_bylevel=None, colsample_bynode=None,\n",
       "              colsample_bytree=None, device=None, early_stopping_rounds=None,\n",
       "              enable_categorical=False, eval_metric=None, feature_types=None,\n",
       "              gamma=None, grow_policy=None, importance_type=None,\n",
       "              interaction_constraints=None, learning_rate=None, max_bin=None,\n",
       "              max_cat_threshold=None, max_cat_to_onehot=None,\n",
       "              max_delta_step=None, max_depth=None, max_leaves=None,\n",
       "              min_child_weight=None, missing=nan, monotone_constraints=None,\n",
       "              multi_strategy=None, n_estimators=None, n_jobs=None,\n",
       "              num_parallel_tree=None, random_state=None, ...)</pre></div></div></div></div></div>"
      ],
      "text/plain": [
       "XGBClassifier(base_score=None, booster=None, callbacks=None,\n",
       "              colsample_bylevel=None, colsample_bynode=None,\n",
       "              colsample_bytree=None, device=None, early_stopping_rounds=None,\n",
       "              enable_categorical=False, eval_metric=None, feature_types=None,\n",
       "              gamma=None, grow_policy=None, importance_type=None,\n",
       "              interaction_constraints=None, learning_rate=None, max_bin=None,\n",
       "              max_cat_threshold=None, max_cat_to_onehot=None,\n",
       "              max_delta_step=None, max_depth=None, max_leaves=None,\n",
       "              min_child_weight=None, missing=nan, monotone_constraints=None,\n",
       "              multi_strategy=None, n_estimators=None, n_jobs=None,\n",
       "              num_parallel_tree=None, random_state=None, ...)"
      ]
     },
     "execution_count": 29,
     "metadata": {},
     "output_type": "execute_result"
    }
   ],
   "source": [
    "xgb_c.fit(X_train, y_train)"
   ]
  },
  {
   "cell_type": "code",
   "execution_count": 30,
   "id": "9cf65d5a",
   "metadata": {},
   "outputs": [],
   "source": [
    "y_pred = xgb_c.predict(X_test)"
   ]
  },
  {
   "cell_type": "code",
   "execution_count": 31,
   "id": "cca00fba",
   "metadata": {},
   "outputs": [
    {
     "name": "stdout",
     "output_type": "stream",
     "text": [
      "              precision    recall  f1-score   support\n",
      "\n",
      "           0       0.89      0.73      0.80      3876\n",
      "           1       0.43      0.70      0.53      1124\n",
      "\n",
      "    accuracy                           0.72      5000\n",
      "   macro avg       0.66      0.72      0.67      5000\n",
      "weighted avg       0.79      0.72      0.74      5000\n",
      "\n",
      "0.724\n"
     ]
    }
   ],
   "source": [
    "print(classification_report(y_pred, y_test))\n",
    "print(accuracy_score(y_pred, y_test))"
   ]
  },
  {
   "cell_type": "code",
   "execution_count": 35,
   "id": "45f11bcb",
   "metadata": {},
   "outputs": [],
   "source": [
    "lo = 'sai^&^#@#@$@)'\n"
   ]
  },
  {
   "cell_type": "code",
   "execution_count": 36,
   "id": "56ecbb44",
   "metadata": {},
   "outputs": [
    {
     "data": {
      "text/plain": [
       "'sai'"
      ]
     },
     "execution_count": 36,
     "metadata": {},
     "output_type": "execute_result"
    }
   ],
   "source": [
    "lo.translate(str.maketrans('', '', string.punctuation))"
   ]
  },
  {
   "cell_type": "code",
   "execution_count": null,
   "id": "c025716f",
   "metadata": {},
   "outputs": [],
   "source": []
  }
 ],
 "metadata": {
  "kernelspec": {
   "display_name": "Python 3 (ipykernel)",
   "language": "python",
   "name": "python3"
  },
  "language_info": {
   "codemirror_mode": {
    "name": "ipython",
    "version": 3
   },
   "file_extension": ".py",
   "mimetype": "text/x-python",
   "name": "python",
   "nbconvert_exporter": "python",
   "pygments_lexer": "ipython3",
   "version": "3.11.7"
  }
 },
 "nbformat": 4,
 "nbformat_minor": 5
}
